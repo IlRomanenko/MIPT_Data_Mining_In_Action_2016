{
 "cells": [
  {
   "cell_type": "markdown",
   "metadata": {},
   "source": [
    "## Python"
   ]
  },
  {
   "cell_type": "code",
   "execution_count": 1,
   "metadata": {
    "collapsed": false,
    "scrolled": true
   },
   "outputs": [
    {
     "name": "stdout",
     "output_type": "stream",
     "text": [
      "1 2 Fizz 4 Buzz Fizz 7 8 Fizz Buzz 11 Fizz 13 14 FizzBuzz 16 17 Fizz 19 Buzz Fizz 22 23 Fizz Buzz 26 Fizz 28 29 FizzBuzz 31 32 Fizz 34 Buzz Fizz 37 38 Fizz Buzz 41 Fizz 43 44 FizzBuzz 46 47 Fizz 49 Buzz Fizz 52 53 Fizz Buzz 56 Fizz 58 59 FizzBuzz 61 62 Fizz 64 Buzz Fizz 67 68 Fizz Buzz 71 Fizz 73 74 FizzBuzz 76 77 Fizz 79 Buzz Fizz 82 83 Fizz Buzz 86 Fizz 88 89 FizzBuzz 91 92 Fizz 94 Buzz Fizz 97 98 Fizz Buzz "
     ]
    }
   ],
   "source": [
    "import sys\n",
    "for i in range(1, 101):\n",
    "    if i % 3 == 0:\n",
    "        sys.stdout.write('Fizz')\n",
    "        if i % 5 != 0:\n",
    "            sys.stdout.write(' ')\n",
    "    if i % 5 == 0:\n",
    "        sys.stdout.write('Buzz ')\n",
    "    if i % 3 != 0 and i % 5 != 0:\n",
    "        sys.stdout.write(str(i) + ' ')"
   ]
  },
  {
   "cell_type": "code",
   "execution_count": 2,
   "metadata": {
    "collapsed": false
   },
   "outputs": [
    {
     "name": "stdout",
     "output_type": "stream",
     "text": [
      "218922995834555169026\n"
     ]
    }
   ],
   "source": [
    "f_n, f_n1 = 0, 1\n",
    "for i in range(100 - 2):\n",
    "    f_n, f_n1 = f_n1, f_n + f_n1\n",
    "print f_n1"
   ]
  },
  {
   "cell_type": "code",
   "execution_count": 3,
   "metadata": {
    "collapsed": true
   },
   "outputs": [],
   "source": [
    "import random\n",
    "template = [random.randint(-10**4, 10**4) for i in range(30)]"
   ]
  },
  {
   "cell_type": "code",
   "execution_count": 4,
   "metadata": {
    "collapsed": false
   },
   "outputs": [
    {
     "name": "stdout",
     "output_type": "stream",
     "text": [
      "[2886, 4462, 815, -2681, 3540, -2155, -2538, -9730, -6725, -1478, -4880, 7858, -3396, 8875, 5827, -2309, 1301, 2399, -6734, 9239, 9987, 5475, 2135, -3898, 9734, -2867, -2717, 6978, -9834, 9002]\n",
      "[-9834, -9730, -6734, -6725, -4880, -3898, -3396, -2867, -2717, -2681, -2538, -2309, -2155, -1478, 815, 1301, 2135, 2399, 2886, 3540, 4462, 5475, 5827, 6978, 7858, 8875, 9002, 9239, 9734, 9987]\n"
     ]
    }
   ],
   "source": [
    "def qsort(a, l_bound, r_bound):\n",
    "    \n",
    "    if r_bound - l_bound <= 1:\n",
    "        return\n",
    "    \n",
    "    l, r, m = l_bound, l_bound, l_bound\n",
    "    pivot = a[l_bound]\n",
    "    \n",
    "    while r < len(a):\n",
    "        if a[r] == pivot:\n",
    "            a[m], a[r] = a[r], a[m]\n",
    "            m += 1\n",
    "        elif a[r] < pivot:\n",
    "            a[m], a[r] = a[r], a[m]\n",
    "            a[l], a[m] = a[m], a[l]\n",
    "            m += 1\n",
    "            l += 1\n",
    "        r += 1\n",
    "    qsort(a, l_bound, l)\n",
    "    qsort(a, m, r_bound)\n",
    "    return\n",
    "\n",
    "a = [x for x in template]\n",
    "print a\n",
    "qsort(a, 0, len(a))\n",
    "print a"
   ]
  },
  {
   "cell_type": "code",
   "execution_count": 5,
   "metadata": {
    "collapsed": false
   },
   "outputs": [
    {
     "name": "stdout",
     "output_type": "stream",
     "text": [
      "[2886, 4462, 815, -2681, 3540, -2155, -2538, -9730, -6725, -1478, -4880, 7858, -3396, 8875, 5827, -2309, 1301, 2399, -6734, 9239, 9987, 5475, 2135, -3898, 9734, -2867, -2717, 6978, -9834, 9002]\n",
      "[-9834, -9730, -6734, -6725, -4880, -3898, -3396, -2867, -2717, -2681, -2538, -2309, -2155, -1478, 815, 1301, 2135, 2399, 2886, 3540, 4462, 5475, 5827, 6978, 7858, 8875, 9002, 9239, 9734, 9987]\n"
     ]
    }
   ],
   "source": [
    "def list_qs(a):\n",
    "    return a if len(a) <= 1 else (list_qs([x for x in a if x < a[0]]) + [x for x in a if x == a[0]] + list_qs([x for x in a if x > a[0]]))\n",
    "\n",
    "a = [x for x in template]\n",
    "print a\n",
    "print list_qs(a)"
   ]
  },
  {
   "cell_type": "markdown",
   "metadata": {},
   "source": [
    "## NumPy"
   ]
  },
  {
   "cell_type": "code",
   "execution_count": 6,
   "metadata": {
    "collapsed": true
   },
   "outputs": [],
   "source": [
    "import numpy as np\n",
    "import math\n",
    "import time"
   ]
  },
  {
   "cell_type": "code",
   "execution_count": 7,
   "metadata": {
    "collapsed": true
   },
   "outputs": [],
   "source": [
    "class Profiler:\n",
    "    def __enter__(self):\n",
    "        self.time = time.clock()\n",
    "        return\n",
    "    \n",
    "    def __exit__(self, exc_type, exc_val, exc_tb):\n",
    "        print '%.7f s' % (time.clock() - self.time)\n",
    "        return\n",
    "    "
   ]
  },
  {
   "cell_type": "code",
   "execution_count": 8,
   "metadata": {
    "collapsed": false
   },
   "outputs": [
    {
     "name": "stdout",
     "output_type": "stream",
     "text": [
      "[1, 1.1, 1.2000000000000002, 1.3000000000000003, 1.4000000000000004, 1.5000000000000004, 1.6000000000000005, 1.7000000000000006, 1.8000000000000007, 1.9000000000000008, 2.000000000000001, 2.100000000000001, 2.200000000000001, 2.300000000000001, 2.4000000000000012, 2.5000000000000013, 2.6000000000000014, 2.7000000000000015, 2.8000000000000016, 2.9000000000000017]\n",
      "\n",
      "[1.0, 1.1, 1.2, 1.3, 1.4, 1.5, 1.6, 1.7000000000000002, 1.8, 1.9, 2.0, 2.1, 2.2, 2.3, 2.4000000000000004, 2.5, 2.6, 2.7, 2.8, 2.9000000000000004]\n"
     ]
    }
   ],
   "source": [
    "def linspace(start, end, step=1):\n",
    "    res = []\n",
    "    while start < end:\n",
    "        res.append(start)\n",
    "        start += step\n",
    "    return res\n",
    "\n",
    "def l_linspace(start, end, step=1):\n",
    "    return [start + x * step for x in range(int(math.ceil((end - start) / step)))]\n",
    "\n",
    "print linspace(1, 3, 0.1)\n",
    "print\n",
    "print l_linspace(1, 3, 0.1)\n"
   ]
  },
  {
   "cell_type": "code",
   "execution_count": 9,
   "metadata": {
    "collapsed": false
   },
   "outputs": [
    {
     "name": "stdout",
     "output_type": "stream",
     "text": [
      "0.4375540 s\n",
      "0.3783370 s\n",
      "0.0001680 s\n"
     ]
    }
   ],
   "source": [
    "\n",
    "with Profiler():\n",
    "    a = linspace(1, 10**6, 1)\n",
    "    a = list(map(lambda x: x + 1, a))\n",
    "    \n",
    "with Profiler():\n",
    "    b = l_linspace(1, 10**6, 1)\n",
    "    b = list(map(lambda x: x + 1, b))\n",
    "    \n",
    "with Profiler():\n",
    "    c = np.linspace(1, 10**6)\n",
    "    c = list(map(lambda x: x + 1, c))"
   ]
  },
  {
   "cell_type": "code",
   "execution_count": 10,
   "metadata": {
    "collapsed": false
   },
   "outputs": [
    {
     "name": "stdout",
     "output_type": "stream",
     "text": [
      "4.8537830 s\n",
      "3.1688990 s\n"
     ]
    }
   ],
   "source": [
    "import random\n",
    "\n",
    "with Profiler():\n",
    "    arr = np.ndarray(shape=(1000, 1000))\n",
    "    for i in range(1000):\n",
    "        for j in range(1000):\n",
    "            arr[i][j] = random.randint(-1000, 1000)\n",
    "            \n",
    "    for i in range(1000):\n",
    "        for j in range(1000):\n",
    "            arr[i][j] += arr[j][i]\n",
    "\n",
    "with Profiler():\n",
    "    arr = [[0 for i in range(1000)] for j in range(1000)]\n",
    "    for i in range(1000):\n",
    "        for j in range(1000):\n",
    "            arr[i][j] = random.randint(-1000, 1000)\n",
    "            \n",
    "    for i in range(1000):\n",
    "        for j in range(1000):\n",
    "            arr[i][j] += arr[j][i]\n"
   ]
  },
  {
   "cell_type": "markdown",
   "metadata": {},
   "source": [
    "## Matplotlib"
   ]
  },
  {
   "cell_type": "code",
   "execution_count": 11,
   "metadata": {
    "collapsed": false
   },
   "outputs": [
    {
     "data": {
      "image/png": "[encoded data removed]",
      "text/plain": [
       "<matplotlib.figure.Figure at 0x7fdd9c9a5250>"
      ]
     },
     "metadata": {},
     "output_type": "display_data"
    }
   ],
   "source": [
    "%matplotlib inline\n",
    "import matplotlib.pyplot as plt\n",
    "import matplotlib.patches as mpatches\n",
    "\n",
    "x = np.linspace(0.1, 10, 100)\n",
    "\n",
    "fig = plt.figure()\n",
    "plt.subplot(121)\n",
    "plt.title('Example')\n",
    "plt.xlabel('X coordinat')\n",
    "plt.ylabel('Y coordinat')\n",
    "\n",
    "\n",
    "sinx_g = mpatches.Patch(color='red', label='$y=\\sin{x}$')\n",
    "logx_g = mpatches.Patch(color='blue', label='$y=\\log{x}$')\n",
    "sqrtx_g = mpatches.Patch(color='green', label='$y=\\sqrt{x}$')\n",
    "plt.legend(handles=[sinx_g, logx_g, sqrtx_g])\n",
    "plt.plot(x, np.sin(x), 'r')\n",
    "plt.plot(x, np.log(x), 'b')\n",
    "plt.plot(x, np.sqrt(x), 'g')\n",
    "\n",
    "plt.subplot(122)\n",
    "plt.plot(x, np.log(x) + np.sin(x), 'y')\n",
    "\n",
    "plt.show()\n",
    "fig.savefig('temp2.png')"
   ]
  },
  {
   "cell_type": "markdown",
   "metadata": {
    "collapsed": true
   },
   "source": [
    "## SciPy"
   ]
  },
  {
   "cell_type": "code",
   "execution_count": 12,
   "metadata": {
    "collapsed": false,
    "scrolled": true
   },
   "outputs": [
    {
     "name": "stdout",
     "output_type": "stream",
     "text": [
      "[[-0.75722833  0.99564128  0.73586647 -0.6043044  -0.42900085]\n",
      " [-1.08259629  0.88186156  1.43115392 -1.46079908  0.30323547]\n",
      " [ 0.27704053 -0.27921406  1.17353583 -0.3270192   1.12265656]\n",
      " [-0.35801965  0.09617606  0.28038683  1.70534655  0.09596028]\n",
      " [ 0.5664658  -0.35336429 -0.23787649 -0.61803319 -0.52865897]]\n"
     ]
    }
   ],
   "source": [
    "import scipy as scp\n",
    "from scipy.stats import norm\n",
    "\n",
    "norm.mean = 0\n",
    "norm.var = 1\n",
    "arr = np.ndarray(shape=(5, 5))\n",
    "for i in range(5):\n",
    "    for j in range(5):\n",
    "        arr[i][j] = norm.rvs()\n",
    "print arr"
   ]
  },
  {
   "cell_type": "code",
   "execution_count": 13,
   "metadata": {
    "collapsed": false
   },
   "outputs": [
    {
     "name": "stdout",
     "output_type": "stream",
     "text": [
      "1.84826136967e-15\n",
      "1.84826136967e-15\n",
      "8.94505244511e-16\n",
      "1.44153850833e-15\n",
      "2.07573853642e-15\n"
     ]
    }
   ],
   "source": [
    "from scipy import linalg\n",
    "la, v = linalg.eig(arr)\n",
    "\n",
    "for i in range(5):\n",
    "    print linalg.norm(arr.dot(v[:, i]) - v[:, i] * la[i])"
   ]
  }
 ],
 "metadata": {
  "anaconda-cloud": {},
  "celltoolbar": "Raw Cell Format",
  "kernelspec": {
   "display_name": "Python [conda root]",
   "language": "python",
   "name": "conda-root-py"
  },
  "language_info": {
   "codemirror_mode": {
    "name": "ipython",
    "version": 2
   },
   "file_extension": ".py",
   "mimetype": "text/x-python",
   "name": "python",
   "nbconvert_exporter": "python",
   "pygments_lexer": "ipython2",
   "version": "2.7.12"
  }
 },
 "nbformat": 4,
 "nbformat_minor": 1
}
